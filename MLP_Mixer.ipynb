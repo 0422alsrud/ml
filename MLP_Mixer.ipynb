{
  "nbformat": 4,
  "nbformat_minor": 0,
  "metadata": {
    "colab": {
      "provenance": [],
      "collapsed_sections": [],
      "authorship_tag": "ABX9TyOxwbjBr7m6f8nhwncRWz/3",
      "include_colab_link": true
    },
    "kernelspec": {
      "name": "python3",
      "display_name": "Python 3"
    },
    "language_info": {
      "name": "python"
    },
    "accelerator": "GPU",
    "gpuClass": "standard"
  },
  "cells": [
    {
      "cell_type": "markdown",
      "metadata": {
        "id": "view-in-github",
        "colab_type": "text"
      },
      "source": [
        "<a href=\"https://colab.research.google.com/github/0422alsrud/ml/blob/master/MLP_Mixer.ipynb\" target=\"_parent\"><img src=\"https://colab.research.google.com/assets/colab-badge.svg\" alt=\"Open In Colab\"/></a>"
      ]
    },
    {
      "cell_type": "code",
      "execution_count": 2,
      "metadata": {
        "colab": {
          "base_uri": "https://localhost:8080/"
        },
        "id": "4neo9mCsq423",
        "outputId": "e0cb78d1-b4c4-4152-dcbb-12976e1be477"
      },
      "outputs": [
        {
          "output_type": "stream",
          "name": "stdout",
          "text": [
            "Looking in indexes: https://pypi.org/simple, https://us-python.pkg.dev/colab-wheels/public/simple/\n",
            "Collecting einops\n",
            "  Downloading einops-0.5.0-py3-none-any.whl (36 kB)\n",
            "Installing collected packages: einops\n",
            "Successfully installed einops-0.5.0\n",
            "Mounted at /content/drive\n"
          ]
        },
        {
          "output_type": "execute_result",
          "data": {
            "text/plain": [
              "['val', 'train', 'data']"
            ]
          },
          "metadata": {},
          "execution_count": 2
        }
      ],
      "source": [
        "import torch\n",
        "import numpy as np\n",
        "from torch import nn\n",
        "!pip install einops\n",
        "from einops.layers.torch import Rearrange\n",
        "import glob\n",
        "import cv2\n",
        "from torch.utils.data import Dataset, DataLoader\n",
        "\n",
        "from google.colab import drive\n",
        "drive.mount('/content/drive')\n",
        "import os\n",
        "os.chdir('/content/drive/MyDrive/imagenet-mini')\n",
        "os.listdir()\n",
        "\n"
      ]
    },
    {
      "cell_type": "code",
      "source": [
        "\n",
        "class customDataset(Dataset):\n",
        "    def __init__(self):\n",
        "        self.imags_path = '/content/drive/MyDrive/imagenet-mini/train'      \n",
        "        file_list = glob.glob(self.imags_path + '*')\n",
        "        print(file_list)\n",
        "        self.data = []\n",
        "\n",
        "        \n",
        "        for class_path in file_list:\n",
        "            class_name = class_path.split('/')[-1]\n",
        "            print(class_name)\n",
        "            for img_path in glob.glob(class_path + '/*.jpeg'):\n",
        "                self.data.append([img_path,class_name])\n",
        "                print(self.data)\n",
        "        # self.class_map = {'dogs':0, 'cats':1}\n",
        "        self.img_dim = (416,416)\n",
        "\n",
        "    def __len__(self):\n",
        "        return len(self.data)\n",
        "\n",
        "    def __getitem__(self,idx):\n",
        "        img_path,class_name = self.data[idx]\n",
        "        img = cv2.imread(img_path)\n",
        "        img = cv2.resize(img,self.img_dim)\n",
        "        class_id = self.class_map[class_name]\n",
        "        img_tensor = torch.from_numpy(img)\n",
        "        img_tensor = img_tensor.permute(2, 0, 1)\n",
        "        class_id = torch.tensor([class_id])\n",
        "        return img_tensor, class_id\n",
        "\n",
        "dataset = customDataset()\n",
        "print(dataset)"
      ],
      "metadata": {
        "colab": {
          "base_uri": "https://localhost:8080/"
        },
        "id": "AhIyILQntsuR",
        "outputId": "1358a940-dc49-49c6-9651-ac59240a8cf8"
      },
      "execution_count": 3,
      "outputs": [
        {
          "output_type": "stream",
          "name": "stdout",
          "text": [
            "['/content/drive/MyDrive/imagenet-mini/train']\n",
            "train\n",
            "<__main__.customDataset object at 0x7f49c4cb1ad0>\n"
          ]
        }
      ]
    },
    {
      "cell_type": "code",
      "source": [
        "class FeedForward(nn.Module):\n",
        "    def __init__(self, dim, hidden_dim, dropout = 0.):\n",
        "        super().__init__()\n",
        "        self.net = nn.Sequential(\n",
        "            nn.Linear(dim, hidden_dim),\n",
        "            nn.GELU(),\n",
        "            nn.Dropout(dropout),\n",
        "            nn.Linear(hidden_dim, dim),\n",
        "            nn.Dropout(dropout)\n",
        "        )\n",
        "    def forward(self, x):\n",
        "        return self.net(x)\n",
        "\n",
        "class MixerBlock(nn.Module):\n",
        "\n",
        "    def __init__(self, dim, num_patch, token_dim, channel_dim, dropout = 0.):\n",
        "        super().__init__()\n",
        "\n",
        "        self.token_mix = nn.Sequential(\n",
        "            nn.LayerNorm(dim),\n",
        "            Rearrange('b n d -> b d n'),\n",
        "            FeedForward(num_patch, token_dim, dropout),\n",
        "            Rearrange('b d n -> b n d')\n",
        "        )\n",
        "\n",
        "        self.channel_mix = nn.Sequential(\n",
        "            nn.LayerNorm(dim),\n",
        "            FeedForward(dim, channel_dim, dropout),\n",
        "        )\n",
        "\n",
        "    def forward(self, x):\n",
        "\n",
        "        x = x + self.token_mix(x)\n",
        "\n",
        "        x = x + self.channel_mix(x)\n",
        "\n",
        "        return x\n",
        "\n",
        "\n",
        "class MLPMixer(nn.Module):\n",
        "\n",
        "    def __init__(self, in_channels, dim, num_classes, patch_size, image_size, depth, token_dim, channel_dim):\n",
        "        super().__init__()\n",
        "\n",
        "        assert image_size % patch_size == 0, 'Image dimensions must be divisible by the patch size.'\n",
        "        self.num_patch =  (image_size // patch_size) ** 2\n",
        "        self.to_patch_embedding = nn.Sequential(\n",
        "            nn.Conv2d(in_channels, dim, patch_size, patch_size),\n",
        "            Rearrange('b c h w -> b (h w) c'),\n",
        "        )\n",
        "\n",
        "        self.mixer_blocks = nn.ModuleList([])\n",
        "\n",
        "        for _ in range(depth):\n",
        "            self.mixer_blocks.append(MixerBlock(dim, self.num_patch, token_dim, channel_dim))\n",
        "\n",
        "        self.layer_norm = nn.LayerNorm(dim)\n",
        "\n",
        "        self.mlp_head = nn.Sequential(\n",
        "            nn.Linear(dim, num_classes)\n",
        "        )\n",
        "\n",
        "    def forward(self, x):\n",
        "\n",
        "        x = self.to_patch_embedding(x)\n",
        "\n",
        "        for mixer_block in self.mixer_blocks:\n",
        "            x = mixer_block(x)\n",
        "\n",
        "        x = self.layer_norm(x)\n",
        "\n",
        "        x = x.mean(dim=1)\n",
        "\n",
        "        return self.mlp_head(x)\n",
        "\n",
        "\n",
        "# if __name__ == '__main__':\n",
        "\n",
        "#     dataset = customDataset()\n",
        "#     train_loader = DataLoader(dataset,batch_size=1,shuffle=True)\n",
        "\n",
        "#     mixer_model = MLPMixer(in_channels=3, \n",
        "#         image_size=416, \n",
        "#         patch_size=16, \n",
        "#         num_classes=2,\n",
        "#         dim=512, \n",
        "#         depth=8, \n",
        "#         token_dim=256, \n",
        "#         channel_dim=2048)\n",
        "\n",
        "#     for i, data in enumerate(train_loader,0):\n",
        "#         inputs, labels = data\n",
        "#         inputs, labels = inputs.to(device), labels.to(device)\n",
        "#         inputs, labels = inputs.float(), labels.float()\n",
        "#         outputs = mixer_model(inputs)"
      ],
      "metadata": {
        "id": "_37o9GsRuaOw"
      },
      "execution_count": 4,
      "outputs": []
    },
    {
      "cell_type": "code",
      "source": [
        "%matplotlib inline\n",
        "import torch\n",
        "import torchvision\n",
        "import torchvision.transforms as transforms\n",
        "transform = transforms.Compose(\n",
        "    [transforms.ToTensor(),\n",
        "     transforms.Normalize((0.5, 0.5, 0.5), (0.5, 0.5, 0.5))])\n",
        "\n",
        "trainset = torchvision.datasets.CIFAR10(root='./data', train=True,\n",
        "                                        download=True, transform=transform)\n",
        "trainloader = torch.utils.data.DataLoader(trainset, batch_size=4,\n",
        "                                          shuffle=True, num_workers=2)\n",
        "\n",
        "testset = torchvision.datasets.CIFAR10(root='./data', train=False,\n",
        "                                       download=True, transform=transform)\n",
        "testloader = torch.utils.data.DataLoader(testset, batch_size=4,\n",
        "                                         shuffle=False, num_workers=2)\n",
        "\n",
        "classes = ('plane', 'car', 'bird', 'cat',\n",
        "           'deer', 'dog', 'frog', 'horse', 'ship', 'truck')"
      ],
      "metadata": {
        "id": "42kQVK8q-tpw",
        "colab": {
          "base_uri": "https://localhost:8080/"
        },
        "outputId": "20a18ddf-a8f6-4048-8baa-aab27ac75b1d"
      },
      "execution_count": 5,
      "outputs": [
        {
          "output_type": "stream",
          "name": "stdout",
          "text": [
            "Files already downloaded and verified\n",
            "Files already downloaded and verified\n"
          ]
        }
      ]
    },
    {
      "cell_type": "code",
      "source": [
        "import matplotlib.pyplot as plt\n",
        "import numpy as np\n",
        "\n",
        "# functions to show an image\n",
        "\n",
        "\n",
        "def imshow(img):\n",
        "    img = img / 2 + 0.5     # unnormalize\n",
        "    npimg = img.numpy()\n",
        "    plt.imshow(np.transpose(npimg, (1, 2, 0)))\n",
        "\n",
        "\n",
        "# get some random training images\n",
        "dataiter = iter(trainloader)\n",
        "images, labels = dataiter.next()\n",
        "\n",
        "# show images\n",
        "imshow(torchvision.utils.make_grid(images))\n",
        "# print labels\n",
        "print(' '.join('%5s' % classes[labels[j]] for j in range(4)))"
      ],
      "metadata": {
        "id": "hYedL7ZD-xzY",
        "colab": {
          "base_uri": "https://localhost:8080/",
          "height": 156
        },
        "outputId": "b7d651db-ac4a-4fb0-d986-c70ebee9e1cf"
      },
      "execution_count": 6,
      "outputs": [
        {
          "output_type": "stream",
          "name": "stdout",
          "text": [
            "truck  deer plane  ship\n"
          ]
        },
        {
          "output_type": "display_data",
          "data": {
            "text/plain": [
              "<Figure size 432x288 with 1 Axes>"
            ],
            "image/png": "[encoded data removed]"
          },
          "metadata": {
            "needs_background": "light"
          }
        }
      ]
    },
    {
      "cell_type": "code",
      "source": [
        "##이거수정해봐봐바ㅏ밥\n",
        "\n",
        "\n",
        "import torch.nn as nn\n",
        "import torch.nn.functional as F\n",
        "\n",
        "\n",
        "class Net(nn.Module):\n",
        "    def __init__(self):\n",
        "        super(Net, self).__init__()\n",
        "        self.conv1 = nn.Conv2d(3, 6, 5)\n",
        "        self.pool = nn.MaxPool2d(2, 2)\n",
        "        self.conv2 = nn.Conv2d(6, 16, 5)\n",
        "        self.fc1 = nn.Linear(16 * 5 * 5, 120)\n",
        "        self.fc2 = nn.Linear(120, 84)\n",
        "        self.fc3 = nn.Linear(84, 10)\n",
        "\n",
        "    def forward(self, x):\n",
        "        x = self.pool(F.relu(self.conv1(x)))\n",
        "        x = self.pool(F.relu(self.conv2(x)))\n",
        "        x = x.view(-1, 16 * 5 * 5)\n",
        "        x = F.relu(self.fc1(x))\n",
        "        x = F.relu(self.fc2(x))\n",
        "        x = self.fc3(x)\n",
        "        return x\n",
        "\n",
        "\n",
        "# net = MLPMixer()\n",
        "net = MLPMixer(in_channels=3, \n",
        "         image_size=32, \n",
        "         patch_size=16, \n",
        "         num_classes=10,\n",
        "         dim=512, \n",
        "         depth=8, \n",
        "         token_dim=256, \n",
        "         channel_dim=2048)"
      ],
      "metadata": {
        "id": "EZr9IA1r-ztA"
      },
      "execution_count": 7,
      "outputs": []
    },
    {
      "cell_type": "code",
      "source": [
        "import torch.optim as optim\n",
        "\n",
        "criterion = nn.CrossEntropyLoss()\n",
        "optimizer = optim.SGD(net.parameters(), lr=0.001, momentum=0.9)"
      ],
      "metadata": {
        "id": "S_OV7riP-1Ym"
      },
      "execution_count": 8,
      "outputs": []
    },
    {
      "cell_type": "code",
      "source": [
        "for epoch in range(2):  # loop over the dataset multiple times\n",
        "\n",
        "    running_loss = 0.0\n",
        "    for i, data in enumerate(trainloader, 0):\n",
        "        # get the inputs\n",
        "        inputs, labels = data\n",
        "\n",
        "        # zero the parameter gradients\n",
        "        optimizer.zero_grad()\n",
        "\n",
        "        # forward + backward + optimize\n",
        "        outputs = net(inputs)\n",
        "        loss = criterion(outputs, labels)\n",
        "        loss.backward()\n",
        "        optimizer.step()\n",
        "\n",
        "        # print statistics\n",
        "        running_loss += loss.item()\n",
        "        if i % 2000 == 1999:    # print every 2000 mini-batches\n",
        "            print('[%d, %5d] loss: %.3f' %\n",
        "                  (epoch + 1, i + 1, running_loss / 2000))\n",
        "            running_loss = 0.0\n",
        "\n",
        "print('Finished Training')"
      ],
      "metadata": {
        "id": "6qpUVvOs-3iA",
        "colab": {
          "base_uri": "https://localhost:8080/"
        },
        "outputId": "f828fb5a-36d8-4c61-80b8-02873d1b18be"
      },
      "execution_count": null,
      "outputs": [
        {
          "output_type": "stream",
          "name": "stdout",
          "text": [
            "[1,  2000] loss: 1.860\n",
            "[1,  4000] loss: 1.645\n",
            "[1,  6000] loss: 1.535\n"
          ]
        }
      ]
    },
    {
      "cell_type": "code",
      "source": [
        "dataiter = iter(testloader)\n",
        "images, labels = dataiter.next()\n",
        "\n",
        "# print images\n",
        "imshow(torchvision.utils.make_grid(images))\n",
        "print('GroundTruth: ', ' '.join('%5s' % classes[labels[j]] for j in range(4)))"
      ],
      "metadata": {
        "id": "6bMxEq_V-5Uw"
      },
      "execution_count": null,
      "outputs": []
    },
    {
      "cell_type": "code",
      "source": [
        "outputs = net(images)\n",
        "_, predicted = torch.max(outputs, 1)\n",
        "\n",
        "print('Predicted: ', ' '.join('%5s' % classes[predicted[j]]\n",
        "                              for j in range(4)))"
      ],
      "metadata": {
        "id": "SnlH1zLe-8CA"
      },
      "execution_count": null,
      "outputs": []
    },
    {
      "cell_type": "code",
      "source": [
        "correct = 0\n",
        "total = 0\n",
        "with torch.no_grad():\n",
        "    for data in testloader:\n",
        "        images, labels = data\n",
        "        outputs = net(images)\n",
        "        _, predicted = torch.max(outputs.data, 1)\n",
        "        total += labels.size(0)\n",
        "        correct += (predicted == labels).sum().item()\n",
        "\n",
        "print('Accuracy of the network on the 10000 test images: %d %%' % (\n",
        "    100 * correct / total))"
      ],
      "metadata": {
        "id": "ZiTx6kEh-98J"
      },
      "execution_count": null,
      "outputs": []
    },
    {
      "cell_type": "code",
      "source": [
        "class_correct = list(0. for i in range(10))\n",
        "class_total = list(0. for i in range(10))\n",
        "with torch.no_grad():\n",
        "    for data in testloader:\n",
        "        images, labels = data\n",
        "        outputs = net(images)\n",
        "        _, predicted = torch.max(outputs, 1)\n",
        "        c = (predicted == labels).squeeze()\n",
        "        for i in range(4):\n",
        "            label = labels[i]\n",
        "            class_correct[label] += c[i].item()\n",
        "            class_total[label] += 1\n",
        "\n",
        "\n",
        "for i in range(10):\n",
        "    print('Accuracy of %5s : %2d %%' % (\n",
        "        classes[i], 100 * class_correct[i] / class_total[i]))"
      ],
      "metadata": {
        "id": "Eh4ck_qB_BFA"
      },
      "execution_count": null,
      "outputs": []
    }
  ]
}